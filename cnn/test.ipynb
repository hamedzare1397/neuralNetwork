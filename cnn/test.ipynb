{
 "cells": [
  {
   "cell_type": "code",
   "execution_count": 1,
   "metadata": {},
   "outputs": [],
   "source": [
    "from tensorflow.keras.models import load_model\n",
    "import numpy as np"
   ]
  },
  {
   "cell_type": "code",
   "execution_count": 2,
   "metadata": {},
   "outputs": [],
   "source": [
    "model=load_model('g:\\homework.model.h5')"
   ]
  },
  {
   "attachments": {},
   "cell_type": "markdown",
   "metadata": {},
   "source": [
    "#تست با تصویر دستنویس"
   ]
  },
  {
   "cell_type": "code",
   "execution_count": 3,
   "metadata": {},
   "outputs": [
    {
     "name": "stderr",
     "output_type": "stream",
     "text": [
      "C:\\Users\\Hamed Zare\\AppData\\Roaming\\Python\\Python310\\site-packages\\keras\\utils\\image_utils.py:409: UserWarning: grayscale is deprecated. Please use color_mode = \"grayscale\"\n",
      "  warnings.warn(\n"
     ]
    },
    {
     "name": "stdout",
     "output_type": "stream",
     "text": [
      "1/1 [==============================] - 0s 128ms/step\n",
      "2 ======> 3\n",
      "1/1 [==============================] - 0s 92ms/step\n",
      "3 ======> 3\n",
      "1/1 [==============================] - 0s 30ms/step\n",
      "4 ======> 9\n",
      "1/1 [==============================] - 0s 24ms/step\n",
      "5 ======> 9\n",
      "1/1 [==============================] - 0s 33ms/step\n",
      "6 ======> 8\n",
      "1/1 [==============================] - 0s 23ms/step\n",
      "7 ======> 7\n"
     ]
    }
   ],
   "source": [
    "import matplotlib.pyplot as plt\n",
    "from keras.preprocessing.image import image_utils\n",
    "for i in range(2,8):\n",
    "    src='myhandwrite\\\\'+str(i)+'-test.jpg'\n",
    "    img=image_utils.load_img(src,grayscale=True, target_size=(28, 28))\n",
    "    img_array=image_utils.img_to_array(img)\n",
    "    img_reshape=img_array.reshape(1, 28, 28, 1)\n",
    "    img_reshape_cast=img_reshape.astype('float32')\n",
    "    img_reshape_cast\n",
    "    predict_value=model.predict(img_reshape_cast)\n",
    "    print(i,'======>',np.argmax(predict_value))"
   ]
  }
 ],
 "metadata": {
  "kernelspec": {
   "display_name": "Python 3",
   "language": "python",
   "name": "python3"
  },
  "language_info": {
   "codemirror_mode": {
    "name": "ipython",
    "version": 3
   },
   "file_extension": ".py",
   "mimetype": "text/x-python",
   "name": "python",
   "nbconvert_exporter": "python",
   "pygments_lexer": "ipython3",
   "version": "3.10.1"
  },
  "orig_nbformat": 4
 },
 "nbformat": 4,
 "nbformat_minor": 2
}
