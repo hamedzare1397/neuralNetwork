{
  "cells": [
    {
      "cell_type": "code",
      "execution_count": 1,
      "metadata": {
        "id": "kGt1xP76S1-F"
      },
      "outputs": [],
      "source": [
        "from tensorflow.keras.datasets import mnist\n",
        "from matplotlib import pyplot as plt\n",
        "from keras.utils import to_categorical"
      ]
    },
    {
      "cell_type": "code",
      "execution_count": 2,
      "metadata": {
        "colab": {
          "base_uri": "https://localhost:8080/"
        },
        "id": "nphmhlO1S81r",
        "outputId": "59ed36e2-2a2e-4407-aa3e-8da91715e17e"
      },
      "outputs": [],
      "source": [
        "(trainX, trainY), (testX, testY) = mnist.load_data()"
      ]
    },
    {
      "cell_type": "code",
      "execution_count": 3,
      "metadata": {
        "id": "MknqsQGfS_wH"
      },
      "outputs": [],
      "source": [
        "trainX = trainX.reshape((trainX.shape[0], 28, 28, 1))\n",
        "testX = testX.reshape((testX.shape[0], 28, 28, 1))\n",
        "trainY = to_categorical(trainY)\n",
        "testY = to_categorical(testY)"
      ]
    },
    {
      "cell_type": "code",
      "execution_count": 4,
      "metadata": {
        "id": "rfs6gOJOTMHb"
      },
      "outputs": [],
      "source": [
        "from tensorflow.keras.models import Sequential\n",
        "from tensorflow.keras.layers import Conv2D\n",
        "from tensorflow.keras.layers import MaxPooling2D\n",
        "from tensorflow.keras.layers import Flatten\n",
        "from tensorflow.keras.layers import Dense\n",
        "from tensorflow.keras.optimizers import SGD\n",
        "\n",
        "model = Sequential()\n",
        "model.add(Conv2D(32, (3, 3), activation='relu', kernel_initializer='he_uniform', input_shape=(28, 28, 1)))\n",
        "model.add(MaxPooling2D((2, 2)))\n",
        "model.add(Flatten())\n",
        "model.add(Dense(100, activation='relu', kernel_initializer='he_uniform'))\n",
        "model.add(Dense(10, activation='softmax'))\n",
        "# compile model\n",
        "# opt = SGD(learning_rate=0.01, momentum=0.9)\n",
        "opt='nadam'\n",
        "loss_func='categorical_crossentropy'\n",
        "model.compile(optimizer=opt, loss=loss_func, metrics=['accuracy'],)"
      ]
    },
    {
      "cell_type": "code",
      "execution_count": 5,
      "metadata": {
        "colab": {
          "base_uri": "https://localhost:8080/"
        },
        "id": "oON2jf-MTtLQ",
        "outputId": "8d201cf6-7ec7-4c66-f137-60c0fb8086dd"
      },
      "outputs": [
        {
          "name": "stdout",
          "output_type": "stream",
          "text": [
            "Epoch 1/10\n",
            "938/938 [==============================] - 41s 41ms/step - loss: 4.2701 - accuracy: 0.7922 - val_loss: 0.6660 - val_accuracy: 0.8494\n",
            "Epoch 2/10\n",
            "938/938 [==============================] - 39s 41ms/step - loss: 0.6771 - accuracy: 0.8457 - val_loss: 0.5818 - val_accuracy: 0.8611\n",
            "Epoch 3/10\n",
            "938/938 [==============================] - 40s 43ms/step - loss: 0.6263 - accuracy: 0.8454 - val_loss: 0.5337 - val_accuracy: 0.8650\n",
            "Epoch 4/10\n",
            "938/938 [==============================] - 44s 47ms/step - loss: 0.4654 - accuracy: 0.8880 - val_loss: 0.4039 - val_accuracy: 0.9276\n",
            "Epoch 5/10\n",
            "938/938 [==============================] - 37s 39ms/step - loss: 0.3528 - accuracy: 0.9214 - val_loss: 0.3001 - val_accuracy: 0.9370\n",
            "Epoch 6/10\n",
            "938/938 [==============================] - 40s 43ms/step - loss: 0.2758 - accuracy: 0.9398 - val_loss: 0.2615 - val_accuracy: 0.9541\n",
            "Epoch 7/10\n",
            "938/938 [==============================] - 37s 39ms/step - loss: 0.1944 - accuracy: 0.9571 - val_loss: 0.2312 - val_accuracy: 0.9589\n",
            "Epoch 8/10\n",
            "938/938 [==============================] - 38s 41ms/step - loss: 0.1456 - accuracy: 0.9658 - val_loss: 0.2091 - val_accuracy: 0.9600\n",
            "Epoch 9/10\n",
            "938/938 [==============================] - 37s 39ms/step - loss: 0.1123 - accuracy: 0.9721 - val_loss: 0.1365 - val_accuracy: 0.9728\n",
            "Epoch 10/10\n",
            "938/938 [==============================] - 39s 41ms/step - loss: 0.0940 - accuracy: 0.9767 - val_loss: 0.1282 - val_accuracy: 0.9722\n"
          ]
        },
        {
          "data": {
            "text/plain": [
              "<keras.callbacks.History at 0x1cddfcc3490>"
            ]
          },
          "execution_count": 5,
          "metadata": {},
          "output_type": "execute_result"
        }
      ],
      "source": [
        "model.fit(trainX,trainY,epochs=10,batch_size=64,validation_data=(testX,testY))"
      ]
    },
    {
      "cell_type": "code",
      "execution_count": 14,
      "metadata": {},
      "outputs": [],
      "source": [
        "from tensorflow.keras.models import save_model\n",
        "save_model(model,'homework1.model_acy9767.h5')"
      ]
    }
  ],
  "metadata": {
    "colab": {
      "provenance": []
    },
    "kernelspec": {
      "display_name": "Python 3",
      "name": "python3"
    },
    "language_info": {
      "codemirror_mode": {
        "name": "ipython",
        "version": 3
      },
      "file_extension": ".py",
      "mimetype": "text/x-python",
      "name": "python",
      "nbconvert_exporter": "python",
      "pygments_lexer": "ipython3",
      "version": "3.10.1"
    }
  },
  "nbformat": 4,
  "nbformat_minor": 0
}
